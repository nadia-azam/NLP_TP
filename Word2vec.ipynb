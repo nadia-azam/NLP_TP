{
  "nbformat": 4,
  "nbformat_minor": 0,
  "metadata": {
    "colab": {
      "provenance": [],
      "mount_file_id": "1zm6CNlGhlA_7UX0JQ-lSxYn9Ujgsb3Ub",
      "authorship_tag": "ABX9TyMdFye3Pz5vuf6r2mPZaCW9",
      "include_colab_link": true
    },
    "kernelspec": {
      "name": "python3",
      "display_name": "Python 3"
    },
    "language_info": {
      "name": "python"
    }
  },
  "cells": [
    {
      "cell_type": "markdown",
      "metadata": {
        "id": "view-in-github",
        "colab_type": "text"
      },
      "source": [
        "<a href=\"https://colab.research.google.com/github/nadia-azam/NLP_TP/blob/main/Word2vec.ipynb\" target=\"_parent\"><img src=\"https://colab.research.google.com/assets/colab-badge.svg\" alt=\"Open In Colab\"/></a>"
      ]
    },
    {
      "cell_type": "code",
      "source": [
        "import requests"
      ],
      "metadata": {
        "id": "inCihR4GyC96"
      },
      "execution_count": 2,
      "outputs": []
    },
    {
      "cell_type": "code",
      "source": [
        "# Lien du fichier Google Drive\n",
        "drive_link = \"https://drive.google.com/uc?id=1CO-aSqXYIvh-ZSYG-LH4FIfVna4mzTBq\""
      ],
      "metadata": {
        "id": "XuEXwtl4yrvA"
      },
      "execution_count": 3,
      "outputs": []
    },
    {
      "cell_type": "code",
      "source": [
        "# Requête GET pour obtenir le contenu du fichier\n",
        "response = requests.get(drive_link)"
      ],
      "metadata": {
        "id": "9plvBhWtythi"
      },
      "execution_count": 4,
      "outputs": []
    },
    {
      "cell_type": "code",
      "source": [
        "# Afficher le contenu du fichier\n",
        "print(response.text)"
      ],
      "metadata": {
        "colab": {
          "base_uri": "https://localhost:8080/"
        },
        "id": "TUG2iGEqyxtI",
        "outputId": "70e783b0-2faa-42d1-8892-8b882e22e1c4"
      },
      "execution_count": 5,
      "outputs": [
        {
          "output_type": "stream",
          "name": "stdout",
          "text": [
            "**Morocco and Marrakech: A Tapestry of Tradition and Modernity** Morocco, located at the crossroads of Europe and Africa, is a country drenched in history, mystery, and cultural richness. A testament to the ancient civilizations that once flourished here, this North African kingdom boasts a unique blend of Arab, Berber, and European influences. At the heart of Morocco's rich tapestry lies Marrakech, one of its four imperial cities and a vibrant epicenter of tradition and modernity. **Geographical Significance** Morocco is bordered by the Atlantic Ocean to the west, the Mediterranean Sea to the north, Algeria to the east and southeast, and the vast Sahara desert to the south. Its strategic location has historically made it a sought-after territory and a melting pot of cultures, religions, and trade routes. **Marrakech: The Red City** Marrakech, often referred to as \"The Red City\" due to its distinctive red-hued buildings, stands against the backdrop of the snow-capped Atlas Mountains. Established in the 11th century, it has remained a crucial political, economic, and cultural center of Morocco. **Journey through the Medina** Marrakech's old town, the Medina, is a UNESCO World Heritage site and a labyrinthine maze of narrow alleys, bustling souks, and historical landmarks. The Djemaa el-Fna Square lies at the heart of the Medina and comes alive every evening with storytellers, musicians, snake charmers, and food stalls offering tantalizing Moroccan delicacies. **Palaces and Gardens** The city is also home to grand palaces like the Bahia Palace, showcasing intricate Islamic architecture, and the Saadian Tombs, remnants of the Saadian dynasty. The Majorelle Garden, restored by the fashion designer Yves Saint Laurent, is a tranquil oasis of cacti, palm trees, and cobalt blue accents. **Modern Marrakech** While tradition and history permeate Marrakech, the city is not averse to the modern world. Gueliz, the new town, is brimming with contemporary art galleries, stylish cafes, and chic boutiques, offering a stark contrast to the ancient Medina. **Moroccan Cuisine** No journey through Morocco and Marrakech would be complete without indulging in the local cuisine. Tagines, couscous, and pastilla are just a few of the many dishes that combine a plethora of flavors and spices like saffron, cumin, and mint. Paired with Moroccan mint tea, the culinary experience is truly unparalleled. **In Conclusion** Morocco, with Marrakech at its heart, offers travelers an unparalleled journey through time. The convergence of history, culture, architecture, and gastronomy makes it an enthralling destination for those seeking both adventure and reflection. As the Moroccan proverb goes, \"He who does not travel does not know the value of men.\" In the case of Morocco and Marrakech, it's not just the value of men, but also the value of time, tradition, and tales that have spanned centuries.\n"
          ]
        }
      ]
    },
    {
      "cell_type": "code",
      "source": [
        "#Librairies\n",
        "import pandas as pd\n",
        "import requests\n",
        "from io import StringIO"
      ],
      "metadata": {
        "id": "Y4Yjc8ezzkyk"
      },
      "execution_count": 6,
      "outputs": []
    },
    {
      "cell_type": "code",
      "source": [
        "# Créer un StringIO à partir du contenu du fichier\n",
        "string_io = StringIO(response.text)"
      ],
      "metadata": {
        "id": "5Uyd4G9Azk20"
      },
      "execution_count": 7,
      "outputs": []
    },
    {
      "cell_type": "code",
      "source": [
        "# Lecture du contenu dans une seule ligne de texte\n",
        "text = string_io.getvalue()"
      ],
      "metadata": {
        "id": "D7zy3gCf3y99"
      },
      "execution_count": 9,
      "outputs": []
    },
    {
      "cell_type": "code",
      "source": [
        "text"
      ],
      "metadata": {
        "colab": {
          "base_uri": "https://localhost:8080/",
          "height": 139
        },
        "id": "yBydM8JV5U4T",
        "outputId": "26c10091-7851-4146-da7b-90dae4b4dc42"
      },
      "execution_count": 10,
      "outputs": [
        {
          "output_type": "execute_result",
          "data": {
            "text/plain": [
              "'**Morocco and Marrakech: A Tapestry of Tradition and Modernity** Morocco, located at the crossroads of Europe and Africa, is a country drenched in history, mystery, and cultural richness. A testament to the ancient civilizations that once flourished here, this North African kingdom boasts a unique blend of Arab, Berber, and European influences. At the heart of Morocco\\'s rich tapestry lies Marrakech, one of its four imperial cities and a vibrant epicenter of tradition and modernity. **Geographical Significance** Morocco is bordered by the Atlantic Ocean to the west, the Mediterranean Sea to the north, Algeria to the east and southeast, and the vast Sahara desert to the south. Its strategic location has historically made it a sought-after territory and a melting pot of cultures, religions, and trade routes. **Marrakech: The Red City** Marrakech, often referred to as \"The Red City\" due to its distinctive red-hued buildings, stands against the backdrop of the snow-capped Atlas Mountains. Established in the 11th century, it has remained a crucial political, economic, and cultural center of Morocco. **Journey through the Medina** Marrakech\\'s old town, the Medina, is a UNESCO World Heritage site and a labyrinthine maze of narrow alleys, bustling souks, and historical landmarks. The Djemaa el-Fna Square lies at the heart of the Medina and comes alive every evening with storytellers, musicians, snake charmers, and food stalls offering tantalizing Moroccan delicacies. **Palaces and Gardens** The city is also home to grand palaces like the Bahia Palace, showcasing intricate Islamic architecture, and the Saadian Tombs, remnants of the Saadian dynasty. The Majorelle Garden, restored by the fashion designer Yves Saint Laurent, is a tranquil oasis of cacti, palm trees, and cobalt blue accents. **Modern Marrakech** While tradition and history permeate Marrakech, the city is not averse to the modern world. Gueliz, the new town, is brimming with contemporary art galleries, stylish cafes, and chic boutiques, offering a stark contrast to the ancient Medina. **Moroccan Cuisine** No journey through Morocco and Marrakech would be complete without indulging in the local cuisine. Tagines, couscous, and pastilla are just a few of the many dishes that combine a plethora of flavors and spices like saffron, cumin, and mint. Paired with Moroccan mint tea, the culinary experience is truly unparalleled. **In Conclusion** Morocco, with Marrakech at its heart, offers travelers an unparalleled journey through time. The convergence of history, culture, architecture, and gastronomy makes it an enthralling destination for those seeking both adventure and reflection. As the Moroccan proverb goes, \"He who does not travel does not know the value of men.\" In the case of Morocco and Marrakech, it\\'s not just the value of men, but also the value of time, tradition, and tales that have spanned centuries.'"
            ],
            "application/vnd.google.colaboratory.intrinsic+json": {
              "type": "string"
            }
          },
          "metadata": {},
          "execution_count": 10
        }
      ]
    },
    {
      "cell_type": "code",
      "source": [
        "import pandas as pd\n",
        "import nltk\n",
        "from nltk.tokenize import word_tokenize\n",
        "from nltk.corpus import stopwords\n",
        "from nltk.stem import WordNetLemmatizer\n",
        "import string"
      ],
      "metadata": {
        "id": "_aqJYmud5Wm-"
      },
      "execution_count": 11,
      "outputs": []
    },
    {
      "cell_type": "code",
      "source": [
        "# Téléchargement des ressources nécessaires pour NLTK\n",
        "nltk.download('punkt')\n",
        "nltk.download('stopwords')\n",
        "nltk.download('wordnet')"
      ],
      "metadata": {
        "colab": {
          "base_uri": "https://localhost:8080/"
        },
        "id": "-ANx06cr5YUB",
        "outputId": "5e0cff17-8f3d-4b57-cf71-2f3dd493808b"
      },
      "execution_count": 12,
      "outputs": [
        {
          "output_type": "stream",
          "name": "stderr",
          "text": [
            "[nltk_data] Downloading package punkt to /root/nltk_data...\n",
            "[nltk_data]   Unzipping tokenizers/punkt.zip.\n",
            "[nltk_data] Downloading package stopwords to /root/nltk_data...\n",
            "[nltk_data]   Unzipping corpora/stopwords.zip.\n",
            "[nltk_data] Downloading package wordnet to /root/nltk_data...\n"
          ]
        },
        {
          "output_type": "execute_result",
          "data": {
            "text/plain": [
              "True"
            ]
          },
          "metadata": {},
          "execution_count": 12
        }
      ]
    },
    {
      "cell_type": "code",
      "source": [
        "# Fonction de prétraitement\n",
        "import re\n",
        "def preprocess_text(text):\n",
        "    # Supprimer les caractères spéciaux sauf les points\n",
        "    texte_propre = re.sub(r\"[^\\w\\s\\.]\", \"\", text)\n",
        "    # Convertir en minuscules\n",
        "    texte_propre = texte_propre.lower()\n",
        "\n",
        "    stop_words = set(stopwords.words('english'))\n",
        "    texte_propre = ' '.join([word for word in texte_propre.split() if word not in stop_words])\n",
        "\n",
        "     # Lemmatization : Réduire les mots à leur forme de base\n",
        "    lemmatizer = WordNetLemmatizer()\n",
        "    texte_propre = ' '.join([lemmatizer.lemmatize(word) for word in texte_propre.split()])\n",
        "\n",
        "\n",
        "    return texte_propre\n"
      ],
      "metadata": {
        "id": "iBOgblAu5chD"
      },
      "execution_count": 13,
      "outputs": []
    },
    {
      "cell_type": "code",
      "source": [
        "preprocessed_text = preprocess_text(text)\n",
        "preprocessed_text"
      ],
      "metadata": {
        "colab": {
          "base_uri": "https://localhost:8080/",
          "height": 139
        },
        "id": "xRsY7lcg5oSP",
        "outputId": "2b3b32f2-d0c9-4888-ed07-ece8c763c053"
      },
      "execution_count": 14,
      "outputs": [
        {
          "output_type": "execute_result",
          "data": {
            "text/plain": [
              "'morocco marrakech tapestry tradition modernity morocco located crossroad europe africa country drenched history mystery cultural richness. testament ancient civilization flourished north african kingdom boast unique blend arab berber european influences. heart morocco rich tapestry lie marrakech one four imperial city vibrant epicenter tradition modernity. geographical significance morocco bordered atlantic ocean west mediterranean sea north algeria east southeast vast sahara desert south. strategic location historically made soughtafter territory melting pot culture religion trade routes. marrakech red city marrakech often referred red city due distinctive redhued building stand backdrop snowcapped atlas mountains. established 11th century remained crucial political economic cultural center morocco. journey medina marrakech old town medina unesco world heritage site labyrinthine maze narrow alley bustling souk historical landmarks. djemaa elfna square lie heart medina come alive every evening storyteller musician snake charmer food stall offering tantalizing moroccan delicacies. palace garden city also home grand palace like bahia palace showcasing intricate islamic architecture saadian tomb remnant saadian dynasty. majorelle garden restored fashion designer yves saint laurent tranquil oasis cactus palm tree cobalt blue accents. modern marrakech tradition history permeate marrakech city averse modern world. gueliz new town brimming contemporary art gallery stylish cafe chic boutique offering stark contrast ancient medina. moroccan cuisine journey morocco marrakech would complete without indulging local cuisine. tagines couscous pastilla many dish combine plethora flavor spice like saffron cumin mint. paired moroccan mint tea culinary experience truly unparalleled. conclusion morocco marrakech heart offer traveler unparalleled journey time. convergence history culture architecture gastronomy make enthralling destination seeking adventure reflection. moroccan proverb go travel know value men. case morocco marrakech value men also value time tradition tale spanned centuries.'"
            ],
            "application/vnd.google.colaboratory.intrinsic+json": {
              "type": "string"
            }
          },
          "metadata": {},
          "execution_count": 14
        }
      ]
    },
    {
      "cell_type": "code",
      "source": [
        "import gensim\n",
        "from gensim.models import Word2Vec"
      ],
      "metadata": {
        "id": "ZCNh90Qo-mov"
      },
      "execution_count": 15,
      "outputs": []
    },
    {
      "cell_type": "code",
      "source": [
        "# Tokenisation du texte prétraité\n",
        "tokenized_text = [sentence.split() for sentence in preprocessed_text.split('.')]\n",
        "tokenized_text"
      ],
      "metadata": {
        "colab": {
          "base_uri": "https://localhost:8080/"
        },
        "id": "lQFsmzUeA1fm",
        "outputId": "12ad828c-5f55-4dea-8835-1571be95cc70"
      },
      "execution_count": 16,
      "outputs": [
        {
          "output_type": "execute_result",
          "data": {
            "text/plain": [
              "[['morocco',\n",
              "  'marrakech',\n",
              "  'tapestry',\n",
              "  'tradition',\n",
              "  'modernity',\n",
              "  'morocco',\n",
              "  'located',\n",
              "  'crossroad',\n",
              "  'europe',\n",
              "  'africa',\n",
              "  'country',\n",
              "  'drenched',\n",
              "  'history',\n",
              "  'mystery',\n",
              "  'cultural',\n",
              "  'richness'],\n",
              " ['testament',\n",
              "  'ancient',\n",
              "  'civilization',\n",
              "  'flourished',\n",
              "  'north',\n",
              "  'african',\n",
              "  'kingdom',\n",
              "  'boast',\n",
              "  'unique',\n",
              "  'blend',\n",
              "  'arab',\n",
              "  'berber',\n",
              "  'european',\n",
              "  'influences'],\n",
              " ['heart',\n",
              "  'morocco',\n",
              "  'rich',\n",
              "  'tapestry',\n",
              "  'lie',\n",
              "  'marrakech',\n",
              "  'one',\n",
              "  'four',\n",
              "  'imperial',\n",
              "  'city',\n",
              "  'vibrant',\n",
              "  'epicenter',\n",
              "  'tradition',\n",
              "  'modernity'],\n",
              " ['geographical',\n",
              "  'significance',\n",
              "  'morocco',\n",
              "  'bordered',\n",
              "  'atlantic',\n",
              "  'ocean',\n",
              "  'west',\n",
              "  'mediterranean',\n",
              "  'sea',\n",
              "  'north',\n",
              "  'algeria',\n",
              "  'east',\n",
              "  'southeast',\n",
              "  'vast',\n",
              "  'sahara',\n",
              "  'desert',\n",
              "  'south'],\n",
              " ['strategic',\n",
              "  'location',\n",
              "  'historically',\n",
              "  'made',\n",
              "  'soughtafter',\n",
              "  'territory',\n",
              "  'melting',\n",
              "  'pot',\n",
              "  'culture',\n",
              "  'religion',\n",
              "  'trade',\n",
              "  'routes'],\n",
              " ['marrakech',\n",
              "  'red',\n",
              "  'city',\n",
              "  'marrakech',\n",
              "  'often',\n",
              "  'referred',\n",
              "  'red',\n",
              "  'city',\n",
              "  'due',\n",
              "  'distinctive',\n",
              "  'redhued',\n",
              "  'building',\n",
              "  'stand',\n",
              "  'backdrop',\n",
              "  'snowcapped',\n",
              "  'atlas',\n",
              "  'mountains'],\n",
              " ['established',\n",
              "  '11th',\n",
              "  'century',\n",
              "  'remained',\n",
              "  'crucial',\n",
              "  'political',\n",
              "  'economic',\n",
              "  'cultural',\n",
              "  'center',\n",
              "  'morocco'],\n",
              " ['journey',\n",
              "  'medina',\n",
              "  'marrakech',\n",
              "  'old',\n",
              "  'town',\n",
              "  'medina',\n",
              "  'unesco',\n",
              "  'world',\n",
              "  'heritage',\n",
              "  'site',\n",
              "  'labyrinthine',\n",
              "  'maze',\n",
              "  'narrow',\n",
              "  'alley',\n",
              "  'bustling',\n",
              "  'souk',\n",
              "  'historical',\n",
              "  'landmarks'],\n",
              " ['djemaa',\n",
              "  'elfna',\n",
              "  'square',\n",
              "  'lie',\n",
              "  'heart',\n",
              "  'medina',\n",
              "  'come',\n",
              "  'alive',\n",
              "  'every',\n",
              "  'evening',\n",
              "  'storyteller',\n",
              "  'musician',\n",
              "  'snake',\n",
              "  'charmer',\n",
              "  'food',\n",
              "  'stall',\n",
              "  'offering',\n",
              "  'tantalizing',\n",
              "  'moroccan',\n",
              "  'delicacies'],\n",
              " ['palace',\n",
              "  'garden',\n",
              "  'city',\n",
              "  'also',\n",
              "  'home',\n",
              "  'grand',\n",
              "  'palace',\n",
              "  'like',\n",
              "  'bahia',\n",
              "  'palace',\n",
              "  'showcasing',\n",
              "  'intricate',\n",
              "  'islamic',\n",
              "  'architecture',\n",
              "  'saadian',\n",
              "  'tomb',\n",
              "  'remnant',\n",
              "  'saadian',\n",
              "  'dynasty'],\n",
              " ['majorelle',\n",
              "  'garden',\n",
              "  'restored',\n",
              "  'fashion',\n",
              "  'designer',\n",
              "  'yves',\n",
              "  'saint',\n",
              "  'laurent',\n",
              "  'tranquil',\n",
              "  'oasis',\n",
              "  'cactus',\n",
              "  'palm',\n",
              "  'tree',\n",
              "  'cobalt',\n",
              "  'blue',\n",
              "  'accents'],\n",
              " ['modern',\n",
              "  'marrakech',\n",
              "  'tradition',\n",
              "  'history',\n",
              "  'permeate',\n",
              "  'marrakech',\n",
              "  'city',\n",
              "  'averse',\n",
              "  'modern',\n",
              "  'world'],\n",
              " ['gueliz',\n",
              "  'new',\n",
              "  'town',\n",
              "  'brimming',\n",
              "  'contemporary',\n",
              "  'art',\n",
              "  'gallery',\n",
              "  'stylish',\n",
              "  'cafe',\n",
              "  'chic',\n",
              "  'boutique',\n",
              "  'offering',\n",
              "  'stark',\n",
              "  'contrast',\n",
              "  'ancient',\n",
              "  'medina'],\n",
              " ['moroccan',\n",
              "  'cuisine',\n",
              "  'journey',\n",
              "  'morocco',\n",
              "  'marrakech',\n",
              "  'would',\n",
              "  'complete',\n",
              "  'without',\n",
              "  'indulging',\n",
              "  'local',\n",
              "  'cuisine'],\n",
              " ['tagines',\n",
              "  'couscous',\n",
              "  'pastilla',\n",
              "  'many',\n",
              "  'dish',\n",
              "  'combine',\n",
              "  'plethora',\n",
              "  'flavor',\n",
              "  'spice',\n",
              "  'like',\n",
              "  'saffron',\n",
              "  'cumin',\n",
              "  'mint'],\n",
              " ['paired',\n",
              "  'moroccan',\n",
              "  'mint',\n",
              "  'tea',\n",
              "  'culinary',\n",
              "  'experience',\n",
              "  'truly',\n",
              "  'unparalleled'],\n",
              " ['conclusion',\n",
              "  'morocco',\n",
              "  'marrakech',\n",
              "  'heart',\n",
              "  'offer',\n",
              "  'traveler',\n",
              "  'unparalleled',\n",
              "  'journey',\n",
              "  'time'],\n",
              " ['convergence',\n",
              "  'history',\n",
              "  'culture',\n",
              "  'architecture',\n",
              "  'gastronomy',\n",
              "  'make',\n",
              "  'enthralling',\n",
              "  'destination',\n",
              "  'seeking',\n",
              "  'adventure',\n",
              "  'reflection'],\n",
              " ['moroccan', 'proverb', 'go', 'travel', 'know', 'value', 'men'],\n",
              " ['case',\n",
              "  'morocco',\n",
              "  'marrakech',\n",
              "  'value',\n",
              "  'men',\n",
              "  'also',\n",
              "  'value',\n",
              "  'time',\n",
              "  'tradition',\n",
              "  'tale',\n",
              "  'spanned',\n",
              "  'centuries'],\n",
              " []]"
            ]
          },
          "metadata": {},
          "execution_count": 16
        }
      ]
    },
    {
      "cell_type": "code",
      "source": [
        "# Création du modèle Word2Vec\n",
        "model = Word2Vec(sentences=tokenized_text, vector_size=300, window=10, min_count=2, workers=4)"
      ],
      "metadata": {
        "id": "sbMDJ19cBAIi"
      },
      "execution_count": 17,
      "outputs": []
    },
    {
      "cell_type": "code",
      "source": [
        "# Tester le modèle\n",
        "similar_words = model.wv.most_similar('morocco', topn=10)\n",
        "print(similar_words)"
      ],
      "metadata": {
        "colab": {
          "base_uri": "https://localhost:8080/"
        },
        "id": "lPzsSEaEBFFY",
        "outputId": "c5689c51-c9fb-48f0-9b3c-742e1d864983"
      },
      "execution_count": 18,
      "outputs": [
        {
          "output_type": "stream",
          "name": "stdout",
          "text": [
            "[('modern', 0.11325512826442719), ('garden', 0.1130441278219223), ('lie', 0.09840726852416992), ('like', 0.08380988240242004), ('culture', 0.05372363328933716), ('architecture', 0.05230952426791191), ('ancient', 0.051351990550756454), ('world', 0.041311558336019516), ('tradition', 0.040425579994916916), ('town', 0.037861283868551254)]\n"
          ]
        }
      ]
    },
    {
      "cell_type": "code",
      "source": [
        "# Obtenir la représentation vectorielle d'un mot\n",
        "word_vector = model.wv['morocco']  # Remplacez 'votre_mot' par le mot dont vous souhaitez obtenir la représentation vectorielle\n",
        "print(word_vector)"
      ],
      "metadata": {
        "colab": {
          "base_uri": "https://localhost:8080/"
        },
        "id": "btdGdoe_BK6X",
        "outputId": "a5af07d8-acba-4c38-c59b-c2e65b59bdb7"
      },
      "execution_count": 19,
      "outputs": [
        {
          "output_type": "stream",
          "name": "stdout",
          "text": [
            "[-2.7513399e-03  3.1053063e-03 -7.0753587e-05 -6.6237460e-04\n",
            "  1.5385676e-03 -1.3686994e-03  9.1101154e-04  2.3155343e-03\n",
            "  2.0207025e-03 -2.5082740e-03  3.1351270e-03  1.5517955e-03\n",
            "  1.3191815e-03 -2.0781886e-03  2.8183698e-03 -7.1628462e-04\n",
            "  2.9467216e-03 -1.7938846e-03 -2.7091547e-03  2.2694399e-03\n",
            "  5.5362325e-04 -7.3059666e-04  3.1704837e-03  3.1613687e-03\n",
            " -3.2594327e-03  8.3555037e-04  2.0477159e-03  1.2889499e-03\n",
            "  6.6932029e-04  1.4205917e-04  2.2772007e-04 -1.2744537e-03\n",
            " -2.3786274e-03 -6.9662009e-04  1.3052465e-03  2.9440252e-03\n",
            "  3.0840419e-03 -1.9912261e-03 -3.1307845e-03  3.2506376e-03\n",
            "  1.1423371e-03  1.7220405e-03  2.0953824e-03 -9.3753554e-04\n",
            "  2.4475721e-03  9.4566756e-04  9.5618499e-04 -7.9334329e-04\n",
            " -1.0386817e-03 -7.8790431e-04  1.4219544e-03  2.9553461e-05\n",
            " -3.1908595e-03 -3.2102217e-03 -2.0454805e-03 -4.2721618e-05\n",
            "  6.6551205e-04  3.1433341e-03  1.8638879e-03 -1.4322042e-03\n",
            "  9.6557778e-05  1.6551499e-03  2.5662316e-03 -3.7780363e-04\n",
            "  1.4400461e-03 -1.9370987e-03 -2.6872678e-04  2.6962559e-03\n",
            " -7.8885542e-04 -3.2186967e-03  1.9248808e-03 -1.3071104e-03\n",
            " -4.0775636e-04  3.3236172e-03 -7.5433549e-04 -1.5851759e-03\n",
            " -1.7806845e-03  2.3246955e-03 -1.9032561e-03  6.9780566e-04\n",
            " -1.7502247e-03  2.0397501e-03  1.4489371e-03  8.7746419e-04\n",
            " -4.9399957e-04 -9.1383938e-04  2.9986894e-03  1.7394950e-03\n",
            " -7.1589678e-04 -3.1492566e-03 -2.4775909e-03 -3.5561738e-04\n",
            " -2.6640767e-04 -8.5351610e-04  3.2324176e-03 -1.5253552e-04\n",
            "  1.9568566e-03 -2.4830583e-03 -8.3598588e-04 -1.8517255e-03\n",
            " -2.3768560e-03  4.1020382e-04 -2.3973896e-03 -7.5673830e-04\n",
            "  1.2393189e-03  1.9403631e-03  3.9886197e-04  7.0030522e-04\n",
            " -1.3711896e-03  2.4096488e-03 -2.1062857e-03  1.5461709e-03\n",
            " -2.7381687e-03  6.7495968e-04 -1.6588385e-03 -1.4136740e-03\n",
            " -1.0380452e-03  1.8828430e-03  1.9326005e-03 -1.6625122e-03\n",
            "  2.5911696e-04 -2.8300574e-03  2.6041756e-03  3.0814470e-03\n",
            " -9.1600890e-04  2.6874384e-04  2.5187302e-04  1.8217185e-03\n",
            " -2.8643426e-03  1.9827741e-04  2.2980978e-03  7.4534101e-04\n",
            "  3.8049868e-04 -3.1085545e-03  2.8276173e-03 -2.0802964e-03\n",
            " -1.0001644e-03  1.1638759e-03 -2.6413909e-04  4.6730778e-04\n",
            "  5.9297879e-04 -2.2764194e-03 -3.2437132e-03  3.0116101e-03\n",
            "  2.0624115e-03 -2.3027426e-03  1.1291411e-03  7.1094022e-05\n",
            "  1.5790850e-03 -2.3743978e-03  1.3435748e-03  1.4422180e-03\n",
            "  3.3195619e-03 -1.4908132e-03 -4.6487243e-04 -2.4375748e-03\n",
            " -3.2354377e-03 -3.0280254e-03 -3.4535420e-04 -2.1643252e-03\n",
            "  1.6170137e-03 -2.0524061e-03  8.3489303e-04  2.4638162e-04\n",
            " -1.1304520e-03 -3.2401228e-04  3.3222241e-03  3.0462153e-03\n",
            " -1.4857200e-03  3.0297022e-03 -1.8822699e-03  1.9768085e-03\n",
            " -1.0303542e-03  1.1487277e-03  1.0097143e-03  2.2961760e-03\n",
            " -7.9207448e-04  2.9233156e-03  2.5290123e-03 -3.1795369e-03\n",
            " -2.6706834e-03 -2.5454143e-03  9.6835115e-04 -9.2957937e-04\n",
            " -2.3122630e-03 -2.7126409e-03  2.7753196e-03  6.6830066e-04\n",
            " -3.1117788e-03 -1.5991327e-03  1.0529289e-03 -1.5652413e-03\n",
            "  1.7623416e-03 -1.4111561e-03  8.7936787e-04 -2.6817424e-03\n",
            "  2.0696586e-03  1.5985776e-03  2.6450134e-04  1.0017832e-03\n",
            " -2.9102378e-03  7.1330892e-04 -2.8908002e-04 -3.1079755e-03\n",
            " -3.1356462e-03 -4.7325910e-04  1.4778053e-03  1.2378795e-03\n",
            " -2.1678025e-03 -2.2905404e-03 -1.6710336e-03 -7.6867710e-04\n",
            " -2.4158568e-03 -3.2000374e-03 -9.1477222e-04 -2.7919642e-03\n",
            " -2.0141252e-03 -1.8948127e-03 -7.8636908e-04 -5.7140482e-04\n",
            " -2.9883531e-03 -2.4425020e-04  2.7140435e-03  2.5625115e-03\n",
            " -2.3988623e-03 -1.2202101e-03  1.0426642e-03 -3.1848997e-03\n",
            "  4.8952212e-04  2.1749139e-03  1.9133040e-03 -2.9228341e-03\n",
            " -1.5055551e-03 -2.7102767e-03  9.3302970e-06  3.0886014e-03\n",
            "  1.9972520e-03  1.6895435e-03  1.6871860e-03 -1.0869467e-03\n",
            "  3.1770214e-03 -2.4531970e-03 -2.4213570e-03 -7.5970468e-04\n",
            " -2.6157396e-04 -1.0774789e-03 -1.9084159e-04  2.4985916e-03\n",
            " -2.3350070e-04 -5.3839962e-04  9.1311795e-04 -2.7913447e-03\n",
            "  2.6215301e-03  2.8441246e-03 -3.1971412e-03  8.1338215e-04\n",
            "  3.3056398e-03 -2.5589424e-03 -2.3250144e-03 -2.5853314e-03\n",
            "  2.8020926e-03 -2.2568479e-04  3.0518482e-03 -2.7223330e-03\n",
            "  1.2418585e-03  8.7911275e-04  2.4730666e-04  7.7948294e-04\n",
            " -2.4976304e-03 -3.1152288e-03  7.8664679e-04  2.0548441e-03\n",
            "  2.6616848e-03  1.9121697e-03 -2.6040178e-04  2.7727936e-03\n",
            " -3.1164223e-03  1.1432556e-03  8.6444452e-05  1.2819649e-03\n",
            "  2.4704104e-03 -2.2404818e-03  1.8552374e-03 -3.1731764e-03\n",
            " -2.6696015e-04 -2.8935878e-03 -1.7044152e-03  3.0974590e-03\n",
            " -6.1913452e-04  9.7617361e-04  3.0256603e-03  2.9830760e-03\n",
            " -2.7345058e-03 -1.0000947e-03  3.2975702e-03  1.6997522e-03\n",
            " -5.3281413e-04 -2.9005171e-03  9.8550925e-04 -2.2292151e-03]\n"
          ]
        }
      ]
    },
    {
      "cell_type": "code",
      "source": [
        "# Calculer la similarité entre deux mots\n",
        "similarity = model.wv.similarity('marrakech', 'morocco')\n",
        "print(similarity)"
      ],
      "metadata": {
        "colab": {
          "base_uri": "https://localhost:8080/"
        },
        "id": "z9rosArGBcFy",
        "outputId": "bb206efb-5e05-41a6-db3e-2a20ad5fa86b"
      },
      "execution_count": 20,
      "outputs": [
        {
          "output_type": "stream",
          "name": "stdout",
          "text": [
            "-0.011163555\n"
          ]
        }
      ]
    },
    {
      "cell_type": "code",
      "source": [
        "# Extraire les mots contextuels les plus similaires pour un mot central donné\n",
        "context_words = model.wv.most_similar('morocco', topn=5)  # Remplacez 'mot_central' par le mot central dont vous souhaitez extraire les mots contextuels\n",
        "print(context_words)"
      ],
      "metadata": {
        "colab": {
          "base_uri": "https://localhost:8080/"
        },
        "id": "JRV8b6pnBpOV",
        "outputId": "5efdde1d-fafc-4aeb-a359-b8ca39f6f328"
      },
      "execution_count": 23,
      "outputs": [
        {
          "output_type": "stream",
          "name": "stdout",
          "text": [
            "[('modern', 0.11325512826442719), ('garden', 0.1130441278219223), ('lie', 0.09840726852416992), ('like', 0.08380988240242004), ('culture', 0.05372363328933716)]\n"
          ]
        }
      ]
    },
    {
      "cell_type": "code",
      "source": [],
      "metadata": {
        "id": "ORsqkylLBpak"
      },
      "execution_count": null,
      "outputs": []
    }
  ]
}